{
 "cells": [
  {
   "cell_type": "code",
   "id": "initial_id",
   "metadata": {
    "collapsed": true,
    "ExecuteTime": {
     "end_time": "2025-02-27T00:28:19.823443Z",
     "start_time": "2025-02-27T00:28:19.810677Z"
    }
   },
   "source": [
    "# 1.네이버 Open API를 활용한, 블로그 데이터 수집해서 json 파일에 저장하기.\n",
    "import urllib.request\n",
    "import json\n",
    "from dotenv import load_dotenv"
   ],
   "outputs": [],
   "execution_count": 2
  },
  {
   "metadata": {},
   "cell_type": "code",
   "outputs": [],
   "execution_count": null,
   "source": "load_dotenv()\n",
   "id": "d7a467e73ab11a96"
  },
  {
   "metadata": {},
   "cell_type": "code",
   "outputs": [],
   "execution_count": null,
   "source": [
    "def getNaverSearch(srcText, start, display):\n",
    "    url = \"https://openapi.naver.com/v1/search/blog.json\"\n",
    "    parameters = \"?query=%s&start=%s&display=%s\" % (urllib.parse.quote(srcText), start,display)\n",
    "    url += parameters\n",
    "    request = urllib.request.Request(url)\n",
    "    request.add_header(\"X-Naver-Client-Id\", client_id)\n",
    "    request.add_header(\"X-Naver-Client-Secret\", client_secret)\n",
    "    try:\n",
    "        response = urllib.request.urlopen(request)\n",
    "        if response.getcode() == 200:\n",
    "            if response.read():\n",
    "                return json.loads(response.read().decode(\"utf-8\"))\n",
    "            else:\n",
    "                return None\n",
    "    except Exception as e:\n",
    "        print(e)"
   ],
   "id": "efaeafa5747af5c3"
  }
 ],
 "metadata": {
  "kernelspec": {
   "display_name": "Python 3",
   "language": "python",
   "name": "python3"
  },
  "language_info": {
   "codemirror_mode": {
    "name": "ipython",
    "version": 2
   },
   "file_extension": ".py",
   "mimetype": "text/x-python",
   "name": "python",
   "nbconvert_exporter": "python",
   "pygments_lexer": "ipython2",
   "version": "2.7.6"
  }
 },
 "nbformat": 4,
 "nbformat_minor": 5
}
